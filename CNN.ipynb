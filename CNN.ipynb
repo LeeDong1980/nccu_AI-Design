{
 "cells": [
  {
   "cell_type": "code",
   "execution_count": 1,
   "metadata": {
    "collapsed": true
   },
   "outputs": [],
   "source": [
    "%matplotlib inline\n",
    "import numpy as np\n",
    "import pandas as pd\n",
    "import matplotlib.pyplot as plt"
   ]
  },
  {
   "cell_type": "code",
   "execution_count": 2,
   "metadata": {},
   "outputs": [
    {
     "name": "stderr",
     "output_type": "stream",
     "text": [
      "Using TensorFlow backend.\n"
     ]
    }
   ],
   "source": [
    "from keras.datasets import mnist"
   ]
  },
  {
   "cell_type": "code",
   "execution_count": 3,
   "metadata": {
    "collapsed": true
   },
   "outputs": [],
   "source": [
    "(x_train, y_train), (x_test, y_test) = mnist.load_data()"
   ]
  },
  {
   "cell_type": "code",
   "execution_count": 4,
   "metadata": {},
   "outputs": [
    {
     "data": {
      "text/plain": [
       "<matplotlib.image.AxesImage at 0x239158413c8>"
      ]
     },
     "execution_count": 4,
     "metadata": {},
     "output_type": "execute_result"
    },
    {
     "data": {
      "image/png": "[encoded data removed]",
      "text/plain": [
       "<Figure size 432x288 with 1 Axes>"
      ]
     },
     "metadata": {},
     "output_type": "display_data"
    }
   ],
   "source": [
    "plt.imshow(x_train[12], cmap = \"Greys\")"
   ]
  },
  {
   "cell_type": "code",
   "execution_count": 5,
   "metadata": {},
   "outputs": [
    {
     "data": {
      "text/plain": [
       "3"
      ]
     },
     "execution_count": 5,
     "metadata": {},
     "output_type": "execute_result"
    }
   ],
   "source": [
    "y_train[12]"
   ]
  },
  {
   "cell_type": "code",
   "execution_count": 6,
   "metadata": {},
   "outputs": [
    {
     "data": {
      "text/plain": [
       "(28, 28)"
      ]
     },
     "execution_count": 6,
     "metadata": {},
     "output_type": "execute_result"
    }
   ],
   "source": [
    "x_train[1].shape"
   ]
  },
  {
   "cell_type": "markdown",
   "metadata": {},
   "source": [
    "#### CNN吃圖要3個channel(R,G,B)，但目前只有2個(28,28)，因此要reshape成(28,28,1)，1是灰階的意思"
   ]
  },
  {
   "cell_type": "code",
   "execution_count": 7,
   "metadata": {
    "collapsed": true
   },
   "outputs": [],
   "source": [
    "x_train = x_train.reshape(60000,28,28,1)\n",
    "x_test = x_test.reshape(10000,28,28,1)"
   ]
  },
  {
   "cell_type": "code",
   "execution_count": 8,
   "metadata": {
    "collapsed": true
   },
   "outputs": [],
   "source": [
    "from keras.utils import np_utils"
   ]
  },
  {
   "cell_type": "code",
   "execution_count": 9,
   "metadata": {
    "collapsed": true
   },
   "outputs": [],
   "source": [
    "y_train = np_utils.to_categorical(y_train, 10)\n",
    "y_test = np_utils.to_categorical(y_test, 10)"
   ]
  },
  {
   "cell_type": "code",
   "execution_count": 10,
   "metadata": {},
   "outputs": [
    {
     "data": {
      "text/plain": [
       "array([0., 0., 0., 0., 0., 1., 0., 0., 0., 0.], dtype=float32)"
      ]
     },
     "execution_count": 10,
     "metadata": {},
     "output_type": "execute_result"
    }
   ],
   "source": [
    "y_train[11]"
   ]
  },
  {
   "cell_type": "code",
   "execution_count": 11,
   "metadata": {
    "collapsed": true
   },
   "outputs": [],
   "source": [
    "x_train = x_train/255\n",
    "x_test = x_test/255"
   ]
  },
  {
   "cell_type": "code",
   "execution_count": null,
   "metadata": {
    "collapsed": true
   },
   "outputs": [],
   "source": []
  },
  {
   "cell_type": "code",
   "execution_count": 12,
   "metadata": {
    "collapsed": true
   },
   "outputs": [],
   "source": [
    "from keras.models import Sequential\n",
    "from keras.layers import Dense, Activation, Flatten\n",
    "from keras.layers import Conv2D, MaxPool2D\n",
    "from keras.optimizers import SGD"
   ]
  },
  {
   "cell_type": "code",
   "execution_count": 13,
   "metadata": {},
   "outputs": [
    {
     "name": "stdout",
     "output_type": "stream",
     "text": [
      "WARNING:tensorflow:From E:\\Anaconda3\\lib\\site-packages\\keras\\backend\\tensorflow_backend.py:74: The name tf.get_default_graph is deprecated. Please use tf.compat.v1.get_default_graph instead.\n",
      "\n"
     ]
    }
   ],
   "source": [
    "model = Sequential()"
   ]
  },
  {
   "cell_type": "markdown",
   "metadata": {},
   "source": [
    "### 4>幾個filter，(3,3)>>3X3的大小，padding='same'>>空的補零\n",
    "Maxpooling不一定要\n"
   ]
  },
  {
   "cell_type": "markdown",
   "metadata": {},
   "source": [
    "# 1"
   ]
  },
  {
   "cell_type": "code",
   "execution_count": 14,
   "metadata": {},
   "outputs": [
    {
     "name": "stdout",
     "output_type": "stream",
     "text": [
      "WARNING:tensorflow:From E:\\Anaconda3\\lib\\site-packages\\keras\\backend\\tensorflow_backend.py:517: The name tf.placeholder is deprecated. Please use tf.compat.v1.placeholder instead.\n",
      "\n",
      "WARNING:tensorflow:From E:\\Anaconda3\\lib\\site-packages\\keras\\backend\\tensorflow_backend.py:4138: The name tf.random_uniform is deprecated. Please use tf.random.uniform instead.\n",
      "\n"
     ]
    }
   ],
   "source": [
    "model.add(Conv2D(4, (5, 5), padding='same', input_shape=(28, 28, 1),\n",
    "                activation='relu'))"
   ]
  },
  {
   "cell_type": "code",
   "execution_count": 15,
   "metadata": {},
   "outputs": [
    {
     "name": "stdout",
     "output_type": "stream",
     "text": [
      "WARNING:tensorflow:From E:\\Anaconda3\\lib\\site-packages\\keras\\backend\\tensorflow_backend.py:3976: The name tf.nn.max_pool is deprecated. Please use tf.nn.max_pool2d instead.\n",
      "\n"
     ]
    }
   ],
   "source": [
    "model.add(MaxPool2D(pool_size=(2,2)))"
   ]
  },
  {
   "cell_type": "markdown",
   "metadata": {},
   "source": [
    "# 2"
   ]
  },
  {
   "cell_type": "code",
   "execution_count": 16,
   "metadata": {
    "collapsed": true
   },
   "outputs": [],
   "source": [
    "model.add(Conv2D(8, (4, 4), padding='same', input_shape=(28, 28, 1),\n",
    "                activation='relu'))"
   ]
  },
  {
   "cell_type": "code",
   "execution_count": 17,
   "metadata": {
    "collapsed": true
   },
   "outputs": [],
   "source": [
    "model.add(MaxPool2D(pool_size=(2,2)))"
   ]
  },
  {
   "cell_type": "markdown",
   "metadata": {},
   "source": [
    "# 3"
   ]
  },
  {
   "cell_type": "code",
   "execution_count": 18,
   "metadata": {
    "collapsed": true
   },
   "outputs": [],
   "source": [
    "model.add(Conv2D(16, (3, 3), padding='same', input_shape=(28, 28, 1),\n",
    "                activation='relu'))"
   ]
  },
  {
   "cell_type": "code",
   "execution_count": 19,
   "metadata": {
    "collapsed": true
   },
   "outputs": [],
   "source": [
    "model.add(MaxPool2D(pool_size=(2,2)))"
   ]
  },
  {
   "cell_type": "markdown",
   "metadata": {},
   "source": [
    "# 4\n",
    "Dense層"
   ]
  },
  {
   "cell_type": "code",
   "execution_count": 20,
   "metadata": {
    "collapsed": true
   },
   "outputs": [],
   "source": [
    "model.add(Flatten())\n",
    "model.add(Dense(12, activation='relu'))"
   ]
  },
  {
   "cell_type": "code",
   "execution_count": 21,
   "metadata": {
    "collapsed": true
   },
   "outputs": [],
   "source": [
    "model.add(Dense(11, activation='relu'))"
   ]
  },
  {
   "cell_type": "markdown",
   "metadata": {},
   "source": [
    "output"
   ]
  },
  {
   "cell_type": "code",
   "execution_count": 22,
   "metadata": {
    "collapsed": true
   },
   "outputs": [],
   "source": [
    "model.add(Dense(10, activation='softmax'))"
   ]
  },
  {
   "cell_type": "markdown",
   "metadata": {},
   "source": [
    "組裝"
   ]
  },
  {
   "cell_type": "code",
   "execution_count": 23,
   "metadata": {},
   "outputs": [
    {
     "name": "stdout",
     "output_type": "stream",
     "text": [
      "WARNING:tensorflow:From E:\\Anaconda3\\lib\\site-packages\\keras\\optimizers.py:790: The name tf.train.Optimizer is deprecated. Please use tf.compat.v1.train.Optimizer instead.\n",
      "\n"
     ]
    }
   ],
   "source": [
    "model.compile(loss='mse', optimizer=SGD(lr=0.07), metrics=['accuracy'])"
   ]
  },
  {
   "cell_type": "code",
   "execution_count": 24,
   "metadata": {},
   "outputs": [
    {
     "name": "stdout",
     "output_type": "stream",
     "text": [
      "_________________________________________________________________\n",
      "Layer (type)                 Output Shape              Param #   \n",
      "=================================================================\n",
      "conv2d_1 (Conv2D)            (None, 28, 28, 4)         104       \n",
      "_________________________________________________________________\n",
      "max_pooling2d_1 (MaxPooling2 (None, 14, 14, 4)         0         \n",
      "_________________________________________________________________\n",
      "conv2d_2 (Conv2D)            (None, 14, 14, 8)         520       \n",
      "_________________________________________________________________\n",
      "max_pooling2d_2 (MaxPooling2 (None, 7, 7, 8)           0         \n",
      "_________________________________________________________________\n",
      "conv2d_3 (Conv2D)            (None, 7, 7, 16)          1168      \n",
      "_________________________________________________________________\n",
      "max_pooling2d_3 (MaxPooling2 (None, 3, 3, 16)          0         \n",
      "_________________________________________________________________\n",
      "flatten_1 (Flatten)          (None, 144)               0         \n",
      "_________________________________________________________________\n",
      "dense_1 (Dense)              (None, 12)                1740      \n",
      "_________________________________________________________________\n",
      "dense_2 (Dense)              (None, 11)                143       \n",
      "_________________________________________________________________\n",
      "dense_3 (Dense)              (None, 10)                120       \n",
      "=================================================================\n",
      "Total params: 3,795\n",
      "Trainable params: 3,795\n",
      "Non-trainable params: 0\n",
      "_________________________________________________________________\n"
     ]
    }
   ],
   "source": [
    "model.summary()"
   ]
  },
  {
   "cell_type": "code",
   "execution_count": 32,
   "metadata": {},
   "outputs": [
    {
     "data": {
      "text/plain": [
       "104"
      ]
     },
     "execution_count": 32,
     "metadata": {},
     "output_type": "execute_result"
    }
   ],
   "source": [
    "5*5*4 + 4    #有4層5x5filter"
   ]
  },
  {
   "cell_type": "code",
   "execution_count": 34,
   "metadata": {},
   "outputs": [
    {
     "data": {
      "text/plain": [
       "520"
      ]
     },
     "execution_count": 34,
     "metadata": {},
     "output_type": "execute_result"
    }
   ],
   "source": [
    "4*4*4*8 + 8    #有8層4x4filter，對4張做"
   ]
  },
  {
   "cell_type": "code",
   "execution_count": 29,
   "metadata": {},
   "outputs": [
    {
     "name": "stdout",
     "output_type": "stream",
     "text": [
      "Epoch 1/50\n",
      "60000/60000 [==============================] - 5s 80us/step - loss: 0.0102 - acc: 0.9335\n",
      "Epoch 2/50\n",
      "60000/60000 [==============================] - 5s 80us/step - loss: 0.0095 - acc: 0.9379\n",
      "Epoch 3/50\n",
      "60000/60000 [==============================] - 5s 80us/step - loss: 0.0090 - acc: 0.9415\n",
      "Epoch 4/50\n",
      "60000/60000 [==============================] - 5s 80us/step - loss: 0.0085 - acc: 0.9450\n",
      "Epoch 5/50\n",
      "60000/60000 [==============================] - 5s 81us/step - loss: 0.0081 - acc: 0.9467\n",
      "Epoch 6/50\n",
      "60000/60000 [==============================] - 5s 80us/step - loss: 0.0078 - acc: 0.9495\n",
      "Epoch 7/50\n",
      "60000/60000 [==============================] - 5s 80us/step - loss: 0.0075 - acc: 0.9513\n",
      "Epoch 8/50\n",
      "60000/60000 [==============================] - 5s 80us/step - loss: 0.0072 - acc: 0.9531\n",
      "Epoch 9/50\n",
      "60000/60000 [==============================] - 5s 80us/step - loss: 0.0070 - acc: 0.9543\n",
      "Epoch 10/50\n",
      "60000/60000 [==============================] - 5s 81us/step - loss: 0.0067 - acc: 0.9558\n",
      "Epoch 11/50\n",
      "60000/60000 [==============================] - 5s 81us/step - loss: 0.0066 - acc: 0.9576\n",
      "Epoch 12/50\n",
      "60000/60000 [==============================] - 5s 81us/step - loss: 0.0064 - acc: 0.9584\n",
      "Epoch 13/50\n",
      "60000/60000 [==============================] - 5s 80us/step - loss: 0.0062 - acc: 0.9596\n",
      "Epoch 14/50\n",
      "60000/60000 [==============================] - 5s 80us/step - loss: 0.0061 - acc: 0.9605\n",
      "Epoch 15/50\n",
      "60000/60000 [==============================] - 5s 81us/step - loss: 0.0059 - acc: 0.9616\n",
      "Epoch 16/50\n",
      "60000/60000 [==============================] - 5s 82us/step - loss: 0.0058 - acc: 0.9627\n",
      "Epoch 17/50\n",
      "60000/60000 [==============================] - 5s 81us/step - loss: 0.0057 - acc: 0.9632\n",
      "Epoch 18/50\n",
      "60000/60000 [==============================] - 5s 80us/step - loss: 0.0056 - acc: 0.9636\n",
      "Epoch 19/50\n",
      "60000/60000 [==============================] - 5s 81us/step - loss: 0.0054 - acc: 0.9651\n",
      "Epoch 20/50\n",
      "60000/60000 [==============================] - 5s 81us/step - loss: 0.0054 - acc: 0.9653\n",
      "Epoch 21/50\n",
      "60000/60000 [==============================] - 5s 80us/step - loss: 0.0053 - acc: 0.9660\n",
      "Epoch 22/50\n",
      "60000/60000 [==============================] - 5s 81us/step - loss: 0.0051 - acc: 0.9668\n",
      "Epoch 23/50\n",
      "60000/60000 [==============================] - 5s 81us/step - loss: 0.0051 - acc: 0.9675\n",
      "Epoch 24/50\n",
      "60000/60000 [==============================] - 5s 80us/step - loss: 0.0050 - acc: 0.9679\n",
      "Epoch 25/50\n",
      "60000/60000 [==============================] - 5s 80us/step - loss: 0.0049 - acc: 0.9679\n",
      "Epoch 26/50\n",
      "60000/60000 [==============================] - 5s 83us/step - loss: 0.0048 - acc: 0.9689\n",
      "Epoch 27/50\n",
      "60000/60000 [==============================] - 5s 81us/step - loss: 0.0047 - acc: 0.9697\n",
      "Epoch 28/50\n",
      "60000/60000 [==============================] - 5s 80us/step - loss: 0.0047 - acc: 0.9699\n",
      "Epoch 29/50\n",
      "60000/60000 [==============================] - 5s 80us/step - loss: 0.0046 - acc: 0.9706\n",
      "Epoch 30/50\n",
      "60000/60000 [==============================] - 5s 81us/step - loss: 0.0045 - acc: 0.9711\n",
      "Epoch 31/50\n",
      "60000/60000 [==============================] - 5s 80us/step - loss: 0.0045 - acc: 0.9715\n",
      "Epoch 32/50\n",
      "60000/60000 [==============================] - 5s 82us/step - loss: 0.0045 - acc: 0.9717\n",
      "Epoch 33/50\n",
      "60000/60000 [==============================] - 5s 81us/step - loss: 0.0044 - acc: 0.9723\n",
      "Epoch 34/50\n",
      "60000/60000 [==============================] - 5s 81us/step - loss: 0.0043 - acc: 0.9723\n",
      "Epoch 35/50\n",
      "60000/60000 [==============================] - 5s 83us/step - loss: 0.0043 - acc: 0.9729\n",
      "Epoch 36/50\n",
      "60000/60000 [==============================] - 5s 82us/step - loss: 0.0042 - acc: 0.9728\n",
      "Epoch 37/50\n",
      "60000/60000 [==============================] - 5s 81us/step - loss: 0.0041 - acc: 0.9741\n",
      "Epoch 38/50\n",
      "60000/60000 [==============================] - 5s 81us/step - loss: 0.0041 - acc: 0.9740\n",
      "Epoch 39/50\n",
      "60000/60000 [==============================] - 5s 81us/step - loss: 0.0041 - acc: 0.9741\n",
      "Epoch 40/50\n",
      "60000/60000 [==============================] - 5s 80us/step - loss: 0.0041 - acc: 0.9744\n",
      "Epoch 41/50\n",
      "60000/60000 [==============================] - 5s 80us/step - loss: 0.0040 - acc: 0.9747\n",
      "Epoch 42/50\n",
      "60000/60000 [==============================] - 5s 81us/step - loss: 0.0040 - acc: 0.9745\n",
      "Epoch 43/50\n",
      "60000/60000 [==============================] - 5s 81us/step - loss: 0.0039 - acc: 0.9747\n",
      "Epoch 44/50\n",
      "60000/60000 [==============================] - 5s 81us/step - loss: 0.0038 - acc: 0.9756\n",
      "Epoch 45/50\n",
      "60000/60000 [==============================] - 5s 81us/step - loss: 0.0038 - acc: 0.9755\n",
      "Epoch 46/50\n",
      "60000/60000 [==============================] - 5s 82us/step - loss: 0.0038 - acc: 0.9759\n",
      "Epoch 47/50\n",
      "60000/60000 [==============================] - 5s 81us/step - loss: 0.0038 - acc: 0.9762\n",
      "Epoch 48/50\n",
      "60000/60000 [==============================] - 5s 81us/step - loss: 0.0037 - acc: 0.9761\n",
      "Epoch 49/50\n",
      "60000/60000 [==============================] - 5s 81us/step - loss: 0.0037 - acc: 0.9767\n",
      "Epoch 50/50\n",
      "60000/60000 [==============================] - 5s 82us/step - loss: 0.0036 - acc: 0.9767\n"
     ]
    },
    {
     "data": {
      "text/plain": [
       "<keras.callbacks.History at 0x23a1b759e10>"
      ]
     },
     "execution_count": 29,
     "metadata": {},
     "output_type": "execute_result"
    }
   ],
   "source": [
    "model.fit(x_train, y_train, batch_size=100, epochs=50)"
   ]
  },
  {
   "cell_type": "code",
   "execution_count": 30,
   "metadata": {},
   "outputs": [
    {
     "name": "stdout",
     "output_type": "stream",
     "text": [
      "10000/10000 [==============================] - 3s 345us/step\n"
     ]
    }
   ],
   "source": [
    "score = model.evaluate(x_test, y_test)"
   ]
  },
  {
   "cell_type": "code",
   "execution_count": 31,
   "metadata": {},
   "outputs": [
    {
     "name": "stdout",
     "output_type": "stream",
     "text": [
      "測試資料的 loss: 0.00395\n",
      "測試資料的正確率: 0.9739\n"
     ]
    }
   ],
   "source": [
    "print(f'測試資料的 loss: {score[0]:.5f}')\n",
    "print(f'測試資料的正確率: {score[1]}')"
   ]
  },
  {
   "cell_type": "code",
   "execution_count": 77,
   "metadata": {
    "collapsed": true
   },
   "outputs": [],
   "source": [
    "model.save('myCNNmodel.h5')"
   ]
  },
  {
   "cell_type": "code",
   "execution_count": 78,
   "metadata": {
    "collapsed": true
   },
   "outputs": [],
   "source": [
    "del model"
   ]
  },
  {
   "cell_type": "code",
   "execution_count": 79,
   "metadata": {
    "collapsed": true
   },
   "outputs": [],
   "source": [
    "from keras.models import load_model"
   ]
  },
  {
   "cell_type": "code",
   "execution_count": 80,
   "metadata": {
    "collapsed": true
   },
   "outputs": [],
   "source": [
    "model = load_model('myCNNmodel.h5')"
   ]
  },
  {
   "cell_type": "code",
   "execution_count": 81,
   "metadata": {
    "collapsed": true
   },
   "outputs": [],
   "source": [
    "predict = model.predict_classes(x_test)"
   ]
  },
  {
   "cell_type": "code",
   "execution_count": 83,
   "metadata": {},
   "outputs": [
    {
     "data": {
      "image/png": "[encoded data removed]",
      "text/plain": [
       "<Figure size 432x288 with 5 Axes>"
      ]
     },
     "metadata": {},
     "output_type": "display_data"
    }
   ],
   "source": [
    "pick = np.random.randint(1,9999, 5)\n",
    "\n",
    "for i in range(5):\n",
    "    plt.subplot(1,5,i+1)\n",
    "    plt.imshow(x_test[pick[i]].reshape(28,28), cmap='Greys')\n",
    "    plt.title(predict[pick[i]])\n",
    "    plt.axis(\"off\")"
   ]
  },
  {
   "cell_type": "code",
   "execution_count": null,
   "metadata": {
    "collapsed": true
   },
   "outputs": [],
   "source": []
  }
 ],
 "metadata": {
  "kernelspec": {
   "display_name": "Python 3",
   "language": "python",
   "name": "python3"
  },
  "language_info": {
   "codemirror_mode": {
    "name": "ipython",
    "version": 3
   },
   "file_extension": ".py",
   "mimetype": "text/x-python",
   "name": "python",
   "nbconvert_exporter": "python",
   "pygments_lexer": "ipython3",
   "version": "3.6.8"
  }
 },
 "nbformat": 4,
 "nbformat_minor": 2
}
